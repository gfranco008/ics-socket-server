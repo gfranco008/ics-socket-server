{
 "cells": [
  {
   "cell_type": "code",
   "execution_count": 1,
   "metadata": {},
   "outputs": [
    {
     "name": "stdout",
     "output_type": "stream",
     "text": [
      "Read Coils: [False, False, False, False, False]\n",
      "Read Discrete Inputs: [True, True, True, True, True]\n",
      "Read Holding Registers: [0, 0, 0]\n",
      "Read Input Registers: [1, 1]\n",
      "Write Single Coil Result: True\n",
      "Write Single Register Result: True\n",
      "Write Multiple Coils Result: True\n",
      "Write Multiple Registers Result: True\n",
      "Mask Write Register Result: 3855\n",
      "Read/Write Multiple Registers Result: [0, 0]\n"
     ]
    }
   ],
   "source": [
    "import modbus\n"
   ]
  },
  {
   "cell_type": "code",
   "execution_count": 5,
   "metadata": {},
   "outputs": [
    {
     "data": {
      "text/plain": [
       "['mask_write_register',\n",
       " 'read_coils',\n",
       " 'read_discrete_inputs',\n",
       " 'read_holding_registers',\n",
       " 'read_input_registers',\n",
       " 'readwrite_registers',\n",
       " 'write_multiple_coils',\n",
       " 'write_multiple_registers',\n",
       " 'write_single_coil',\n",
       " 'write_single_register']"
      ]
     },
     "execution_count": 5,
     "metadata": {},
     "output_type": "execute_result"
    }
   ],
   "source": [
    "dir(modbus.ModbusEmulator())[-10:]"
   ]
  },
  {
   "cell_type": "code",
   "execution_count": null,
   "metadata": {},
   "outputs": [],
   "source": []
  }
 ],
 "metadata": {
  "kernelspec": {
   "display_name": "Python 3",
   "language": "python",
   "name": "python3"
  },
  "language_info": {
   "codemirror_mode": {
    "name": "ipython",
    "version": 3
   },
   "file_extension": ".py",
   "mimetype": "text/x-python",
   "name": "python",
   "nbconvert_exporter": "python",
   "pygments_lexer": "ipython3",
   "version": "3.9.7"
  },
  "orig_nbformat": 4,
  "vscode": {
   "interpreter": {
    "hash": "c4b6342a7a602d0eeee6033573c32795fb5c11ba91c9d69825aa62eeb12fbc79"
   }
  }
 },
 "nbformat": 4,
 "nbformat_minor": 2
}
